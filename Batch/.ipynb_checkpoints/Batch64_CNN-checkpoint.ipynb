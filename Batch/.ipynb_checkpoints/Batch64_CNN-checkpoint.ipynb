{
 "cells": [
  {
   "cell_type": "code",
   "execution_count": 1,
   "id": "0091c504-c1ee-4615-8a3e-574d277e9510",
   "metadata": {
    "tags": []
   },
   "outputs": [],
   "source": [
    "import pandas as pd\n",
    "import numpy as np\n",
    "import wfdb\n",
    "import ast\n",
    "from tqdm import tqdm\n",
    "import warnings; warnings.filterwarnings('ignore')\n",
    "from IPython.display import display\n",
    "\n",
    "import matplotlib.pyplot as plt\n",
    "import seaborn as sns\n",
    "%matplotlib inline"
   ]
  },
  {
   "cell_type": "code",
   "execution_count": 2,
   "id": "b850ed2c-9040-4217-ad48-74c614db6165",
   "metadata": {
    "tags": []
   },
   "outputs": [],
   "source": [
    "def load_raw_data(df, sampling_rate, path):\n",
    "    if sampling_rate == 100:\n",
    "        data = [wfdb.rdsamp(path+f) for f in tqdm(df.filename_lr)]\n",
    "    else:\n",
    "        data = [wfdb.rdsamp(path+f) for f in tqdm(df.filename_hr)]\n",
    "    data = np.array([signal for signal, meta in data])\n",
    "    return data"
   ]
  },
  {
   "cell_type": "code",
   "execution_count": 3,
   "id": "6562b873-33d0-4449-a5e2-1f8587d7914a",
   "metadata": {
    "tags": []
   },
   "outputs": [
    {
     "name": "stderr",
     "output_type": "stream",
     "text": [
      " 27%|█████████████████████▏                                                       | 5998/21837 [02:44<06:18, 41.87it/s]"
     ]
    },
    {
     "ename": "KeyboardInterrupt",
     "evalue": "",
     "output_type": "error",
     "traceback": [
      "\u001b[1;31m---------------------------------------------------------------------------\u001b[0m",
      "\u001b[1;31mKeyboardInterrupt\u001b[0m                         Traceback (most recent call last)",
      "Cell \u001b[1;32mIn[3], line 9\u001b[0m\n\u001b[0;32m      6\u001b[0m Y\u001b[38;5;241m.\u001b[39mscp_codes \u001b[38;5;241m=\u001b[39m Y\u001b[38;5;241m.\u001b[39mscp_codes\u001b[38;5;241m.\u001b[39mapply(\u001b[38;5;28;01mlambda\u001b[39;00m x: ast\u001b[38;5;241m.\u001b[39mliteral_eval(x))\n\u001b[0;32m      8\u001b[0m \u001b[38;5;66;03m# Load raw signal data\u001b[39;00m\n\u001b[1;32m----> 9\u001b[0m X \u001b[38;5;241m=\u001b[39m \u001b[43mload_raw_data\u001b[49m\u001b[43m(\u001b[49m\u001b[43mY\u001b[49m\u001b[43m,\u001b[49m\u001b[43m \u001b[49m\u001b[43msampling_rate\u001b[49m\u001b[43m,\u001b[49m\u001b[43m \u001b[49m\u001b[43mpath\u001b[49m\u001b[43m)\u001b[49m\n\u001b[0;32m     11\u001b[0m \u001b[38;5;28mprint\u001b[39m(\u001b[38;5;124m'\u001b[39m\u001b[38;5;124mdata shpae:\u001b[39m\u001b[38;5;124m'\u001b[39m, X\u001b[38;5;241m.\u001b[39mshape)\n\u001b[0;32m     12\u001b[0m Y[[\u001b[38;5;124m'\u001b[39m\u001b[38;5;124mscp_codes\u001b[39m\u001b[38;5;124m'\u001b[39m]]\n",
      "Cell \u001b[1;32mIn[2], line 3\u001b[0m, in \u001b[0;36mload_raw_data\u001b[1;34m(df, sampling_rate, path)\u001b[0m\n\u001b[0;32m      1\u001b[0m \u001b[38;5;28;01mdef\u001b[39;00m \u001b[38;5;21mload_raw_data\u001b[39m(df, sampling_rate, path):\n\u001b[0;32m      2\u001b[0m     \u001b[38;5;28;01mif\u001b[39;00m sampling_rate \u001b[38;5;241m==\u001b[39m \u001b[38;5;241m100\u001b[39m:\n\u001b[1;32m----> 3\u001b[0m         data \u001b[38;5;241m=\u001b[39m \u001b[43m[\u001b[49m\u001b[43mwfdb\u001b[49m\u001b[38;5;241;43m.\u001b[39;49m\u001b[43mrdsamp\u001b[49m\u001b[43m(\u001b[49m\u001b[43mpath\u001b[49m\u001b[38;5;241;43m+\u001b[39;49m\u001b[43mf\u001b[49m\u001b[43m)\u001b[49m\u001b[43m \u001b[49m\u001b[38;5;28;43;01mfor\u001b[39;49;00m\u001b[43m \u001b[49m\u001b[43mf\u001b[49m\u001b[43m \u001b[49m\u001b[38;5;129;43;01min\u001b[39;49;00m\u001b[43m \u001b[49m\u001b[43mtqdm\u001b[49m\u001b[43m(\u001b[49m\u001b[43mdf\u001b[49m\u001b[38;5;241;43m.\u001b[39;49m\u001b[43mfilename_lr\u001b[49m\u001b[43m)\u001b[49m\u001b[43m]\u001b[49m\n\u001b[0;32m      4\u001b[0m     \u001b[38;5;28;01melse\u001b[39;00m:\n\u001b[0;32m      5\u001b[0m         data \u001b[38;5;241m=\u001b[39m [wfdb\u001b[38;5;241m.\u001b[39mrdsamp(path\u001b[38;5;241m+\u001b[39mf) \u001b[38;5;28;01mfor\u001b[39;00m f \u001b[38;5;129;01min\u001b[39;00m tqdm(df\u001b[38;5;241m.\u001b[39mfilename_hr)]\n",
      "Cell \u001b[1;32mIn[2], line 3\u001b[0m, in \u001b[0;36m<listcomp>\u001b[1;34m(.0)\u001b[0m\n\u001b[0;32m      1\u001b[0m \u001b[38;5;28;01mdef\u001b[39;00m \u001b[38;5;21mload_raw_data\u001b[39m(df, sampling_rate, path):\n\u001b[0;32m      2\u001b[0m     \u001b[38;5;28;01mif\u001b[39;00m sampling_rate \u001b[38;5;241m==\u001b[39m \u001b[38;5;241m100\u001b[39m:\n\u001b[1;32m----> 3\u001b[0m         data \u001b[38;5;241m=\u001b[39m [\u001b[43mwfdb\u001b[49m\u001b[38;5;241;43m.\u001b[39;49m\u001b[43mrdsamp\u001b[49m\u001b[43m(\u001b[49m\u001b[43mpath\u001b[49m\u001b[38;5;241;43m+\u001b[39;49m\u001b[43mf\u001b[49m\u001b[43m)\u001b[49m \u001b[38;5;28;01mfor\u001b[39;00m f \u001b[38;5;129;01min\u001b[39;00m tqdm(df\u001b[38;5;241m.\u001b[39mfilename_lr)]\n\u001b[0;32m      4\u001b[0m     \u001b[38;5;28;01melse\u001b[39;00m:\n\u001b[0;32m      5\u001b[0m         data \u001b[38;5;241m=\u001b[39m [wfdb\u001b[38;5;241m.\u001b[39mrdsamp(path\u001b[38;5;241m+\u001b[39mf) \u001b[38;5;28;01mfor\u001b[39;00m f \u001b[38;5;129;01min\u001b[39;00m tqdm(df\u001b[38;5;241m.\u001b[39mfilename_hr)]\n",
      "File \u001b[1;32m~\\AppData\\Local\\Programs\\Python\\Python311\\Lib\\site-packages\\wfdb\\io\\record.py:2322\u001b[0m, in \u001b[0;36mrdsamp\u001b[1;34m(record_name, sampfrom, sampto, channels, pn_dir, channel_names, warn_empty, return_res)\u001b[0m\n\u001b[0;32m   2317\u001b[0m     dir_list \u001b[38;5;241m=\u001b[39m pn_dir\u001b[38;5;241m.\u001b[39msplit(\u001b[38;5;124m\"\u001b[39m\u001b[38;5;124m/\u001b[39m\u001b[38;5;124m\"\u001b[39m)\n\u001b[0;32m   2318\u001b[0m     pn_dir \u001b[38;5;241m=\u001b[39m posixpath\u001b[38;5;241m.\u001b[39mjoin(\n\u001b[0;32m   2319\u001b[0m         dir_list[\u001b[38;5;241m0\u001b[39m], download\u001b[38;5;241m.\u001b[39mget_version(dir_list[\u001b[38;5;241m0\u001b[39m]), \u001b[38;5;241m*\u001b[39mdir_list[\u001b[38;5;241m1\u001b[39m:]\n\u001b[0;32m   2320\u001b[0m     )\n\u001b[1;32m-> 2322\u001b[0m record \u001b[38;5;241m=\u001b[39m \u001b[43mrdrecord\u001b[49m\u001b[43m(\u001b[49m\n\u001b[0;32m   2323\u001b[0m \u001b[43m    \u001b[49m\u001b[43mrecord_name\u001b[49m\u001b[38;5;241;43m=\u001b[39;49m\u001b[43mrecord_name\u001b[49m\u001b[43m,\u001b[49m\n\u001b[0;32m   2324\u001b[0m \u001b[43m    \u001b[49m\u001b[43msampfrom\u001b[49m\u001b[38;5;241;43m=\u001b[39;49m\u001b[43msampfrom\u001b[49m\u001b[43m,\u001b[49m\n\u001b[0;32m   2325\u001b[0m \u001b[43m    \u001b[49m\u001b[43msampto\u001b[49m\u001b[38;5;241;43m=\u001b[39;49m\u001b[43msampto\u001b[49m\u001b[43m,\u001b[49m\n\u001b[0;32m   2326\u001b[0m \u001b[43m    \u001b[49m\u001b[43mchannels\u001b[49m\u001b[38;5;241;43m=\u001b[39;49m\u001b[43mchannels\u001b[49m\u001b[43m,\u001b[49m\n\u001b[0;32m   2327\u001b[0m \u001b[43m    \u001b[49m\u001b[43mphysical\u001b[49m\u001b[38;5;241;43m=\u001b[39;49m\u001b[38;5;28;43;01mTrue\u001b[39;49;00m\u001b[43m,\u001b[49m\n\u001b[0;32m   2328\u001b[0m \u001b[43m    \u001b[49m\u001b[43mpn_dir\u001b[49m\u001b[38;5;241;43m=\u001b[39;49m\u001b[43mpn_dir\u001b[49m\u001b[43m,\u001b[49m\n\u001b[0;32m   2329\u001b[0m \u001b[43m    \u001b[49m\u001b[43mm2s\u001b[49m\u001b[38;5;241;43m=\u001b[39;49m\u001b[38;5;28;43;01mTrue\u001b[39;49;00m\u001b[43m,\u001b[49m\n\u001b[0;32m   2330\u001b[0m \u001b[43m    \u001b[49m\u001b[43mreturn_res\u001b[49m\u001b[38;5;241;43m=\u001b[39;49m\u001b[43mreturn_res\u001b[49m\u001b[43m,\u001b[49m\n\u001b[0;32m   2331\u001b[0m \u001b[43m    \u001b[49m\u001b[43mchannel_names\u001b[49m\u001b[38;5;241;43m=\u001b[39;49m\u001b[43mchannel_names\u001b[49m\u001b[43m,\u001b[49m\n\u001b[0;32m   2332\u001b[0m \u001b[43m    \u001b[49m\u001b[43mwarn_empty\u001b[49m\u001b[38;5;241;43m=\u001b[39;49m\u001b[43mwarn_empty\u001b[49m\u001b[43m,\u001b[49m\n\u001b[0;32m   2333\u001b[0m \u001b[43m\u001b[49m\u001b[43m)\u001b[49m\n\u001b[0;32m   2335\u001b[0m signals \u001b[38;5;241m=\u001b[39m record\u001b[38;5;241m.\u001b[39mp_signal\n\u001b[0;32m   2336\u001b[0m fields \u001b[38;5;241m=\u001b[39m {}\n",
      "File \u001b[1;32m~\\AppData\\Local\\Programs\\Python\\Python311\\Lib\\site-packages\\wfdb\\io\\record.py:2118\u001b[0m, in \u001b[0;36mrdrecord\u001b[1;34m(record_name, sampfrom, sampto, channels, physical, pn_dir, m2s, smooth_frames, ignore_skew, return_res, force_channels, channel_names, warn_empty)\u001b[0m\n\u001b[0;32m   2115\u001b[0m no_file \u001b[38;5;241m=\u001b[39m \u001b[38;5;28;01mFalse\u001b[39;00m\n\u001b[0;32m   2116\u001b[0m sig_data \u001b[38;5;241m=\u001b[39m \u001b[38;5;28;01mNone\u001b[39;00m\n\u001b[1;32m-> 2118\u001b[0m record\u001b[38;5;241m.\u001b[39me_d_signal \u001b[38;5;241m=\u001b[39m \u001b[43m_signal\u001b[49m\u001b[38;5;241;43m.\u001b[39;49m\u001b[43m_rd_segment\u001b[49m\u001b[43m(\u001b[49m\n\u001b[0;32m   2119\u001b[0m \u001b[43m    \u001b[49m\u001b[43mfile_name\u001b[49m\u001b[38;5;241;43m=\u001b[39;49m\u001b[43mrecord\u001b[49m\u001b[38;5;241;43m.\u001b[39;49m\u001b[43mfile_name\u001b[49m\u001b[43m,\u001b[49m\n\u001b[0;32m   2120\u001b[0m \u001b[43m    \u001b[49m\u001b[43mdir_name\u001b[49m\u001b[38;5;241;43m=\u001b[39;49m\u001b[43mdir_name\u001b[49m\u001b[43m,\u001b[49m\n\u001b[0;32m   2121\u001b[0m \u001b[43m    \u001b[49m\u001b[43mpn_dir\u001b[49m\u001b[38;5;241;43m=\u001b[39;49m\u001b[43mpn_dir\u001b[49m\u001b[43m,\u001b[49m\n\u001b[0;32m   2122\u001b[0m \u001b[43m    \u001b[49m\u001b[43mfmt\u001b[49m\u001b[38;5;241;43m=\u001b[39;49m\u001b[43mrecord\u001b[49m\u001b[38;5;241;43m.\u001b[39;49m\u001b[43mfmt\u001b[49m\u001b[43m,\u001b[49m\n\u001b[0;32m   2123\u001b[0m \u001b[43m    \u001b[49m\u001b[43mn_sig\u001b[49m\u001b[38;5;241;43m=\u001b[39;49m\u001b[43mrecord\u001b[49m\u001b[38;5;241;43m.\u001b[39;49m\u001b[43mn_sig\u001b[49m\u001b[43m,\u001b[49m\n\u001b[0;32m   2124\u001b[0m \u001b[43m    \u001b[49m\u001b[43msig_len\u001b[49m\u001b[38;5;241;43m=\u001b[39;49m\u001b[43mrecord\u001b[49m\u001b[38;5;241;43m.\u001b[39;49m\u001b[43msig_len\u001b[49m\u001b[43m,\u001b[49m\n\u001b[0;32m   2125\u001b[0m \u001b[43m    \u001b[49m\u001b[43mbyte_offset\u001b[49m\u001b[38;5;241;43m=\u001b[39;49m\u001b[43mrecord\u001b[49m\u001b[38;5;241;43m.\u001b[39;49m\u001b[43mbyte_offset\u001b[49m\u001b[43m,\u001b[49m\n\u001b[0;32m   2126\u001b[0m \u001b[43m    \u001b[49m\u001b[43msamps_per_frame\u001b[49m\u001b[38;5;241;43m=\u001b[39;49m\u001b[43mrecord\u001b[49m\u001b[38;5;241;43m.\u001b[39;49m\u001b[43msamps_per_frame\u001b[49m\u001b[43m,\u001b[49m\n\u001b[0;32m   2127\u001b[0m \u001b[43m    \u001b[49m\u001b[43mskew\u001b[49m\u001b[38;5;241;43m=\u001b[39;49m\u001b[43mrecord\u001b[49m\u001b[38;5;241;43m.\u001b[39;49m\u001b[43mskew\u001b[49m\u001b[43m,\u001b[49m\n\u001b[0;32m   2128\u001b[0m \u001b[43m    \u001b[49m\u001b[43minit_value\u001b[49m\u001b[38;5;241;43m=\u001b[39;49m\u001b[43mrecord\u001b[49m\u001b[38;5;241;43m.\u001b[39;49m\u001b[43minit_value\u001b[49m\u001b[43m,\u001b[49m\n\u001b[0;32m   2129\u001b[0m \u001b[43m    \u001b[49m\u001b[43msampfrom\u001b[49m\u001b[38;5;241;43m=\u001b[39;49m\u001b[43msampfrom\u001b[49m\u001b[43m,\u001b[49m\n\u001b[0;32m   2130\u001b[0m \u001b[43m    \u001b[49m\u001b[43msampto\u001b[49m\u001b[38;5;241;43m=\u001b[39;49m\u001b[43msampto\u001b[49m\u001b[43m,\u001b[49m\n\u001b[0;32m   2131\u001b[0m \u001b[43m    \u001b[49m\u001b[43mchannels\u001b[49m\u001b[38;5;241;43m=\u001b[39;49m\u001b[43mchannels\u001b[49m\u001b[43m,\u001b[49m\n\u001b[0;32m   2132\u001b[0m \u001b[43m    \u001b[49m\u001b[43mignore_skew\u001b[49m\u001b[38;5;241;43m=\u001b[39;49m\u001b[43mignore_skew\u001b[49m\u001b[43m,\u001b[49m\n\u001b[0;32m   2133\u001b[0m \u001b[43m    \u001b[49m\u001b[43mno_file\u001b[49m\u001b[38;5;241;43m=\u001b[39;49m\u001b[43mno_file\u001b[49m\u001b[43m,\u001b[49m\n\u001b[0;32m   2134\u001b[0m \u001b[43m    \u001b[49m\u001b[43msig_data\u001b[49m\u001b[38;5;241;43m=\u001b[39;49m\u001b[43msig_data\u001b[49m\u001b[43m,\u001b[49m\n\u001b[0;32m   2135\u001b[0m \u001b[43m    \u001b[49m\u001b[43mreturn_res\u001b[49m\u001b[38;5;241;43m=\u001b[39;49m\u001b[43mreturn_res\u001b[49m\u001b[43m,\u001b[49m\n\u001b[0;32m   2136\u001b[0m \u001b[43m\u001b[49m\u001b[43m)\u001b[49m\n\u001b[0;32m   2138\u001b[0m \u001b[38;5;66;03m# Only 1 sample/frame, or frames are smoothed. Return uniform numpy array\u001b[39;00m\n\u001b[0;32m   2139\u001b[0m \u001b[38;5;28;01mif\u001b[39;00m smooth_frames:\n\u001b[0;32m   2140\u001b[0m     \u001b[38;5;66;03m# Arrange/edit the object fields to reflect user channel\u001b[39;00m\n\u001b[0;32m   2141\u001b[0m     \u001b[38;5;66;03m# and/or signal range input\u001b[39;00m\n",
      "File \u001b[1;32m~\\AppData\\Local\\Programs\\Python\\Python311\\Lib\\site-packages\\wfdb\\io\\_signal.py:1207\u001b[0m, in \u001b[0;36m_rd_segment\u001b[1;34m(file_name, dir_name, pn_dir, fmt, n_sig, sig_len, byte_offset, samps_per_frame, skew, init_value, sampfrom, sampto, channels, ignore_skew, no_file, sig_data, return_res)\u001b[0m\n\u001b[0;32m   1203\u001b[0m signals \u001b[38;5;241m=\u001b[39m [\u001b[38;5;28;01mNone\u001b[39;00m] \u001b[38;5;241m*\u001b[39m \u001b[38;5;28mlen\u001b[39m(channels)\n\u001b[0;32m   1205\u001b[0m \u001b[38;5;28;01mfor\u001b[39;00m fn \u001b[38;5;129;01min\u001b[39;00m w_file_name:\n\u001b[0;32m   1206\u001b[0m     \u001b[38;5;66;03m# Get the list of all signals contained in the dat file\u001b[39;00m\n\u001b[1;32m-> 1207\u001b[0m     datsignals \u001b[38;5;241m=\u001b[39m \u001b[43m_rd_dat_signals\u001b[49m\u001b[43m(\u001b[49m\n\u001b[0;32m   1208\u001b[0m \u001b[43m        \u001b[49m\u001b[43mfile_name\u001b[49m\u001b[38;5;241;43m=\u001b[39;49m\u001b[43mfn\u001b[49m\u001b[43m,\u001b[49m\n\u001b[0;32m   1209\u001b[0m \u001b[43m        \u001b[49m\u001b[43mdir_name\u001b[49m\u001b[38;5;241;43m=\u001b[39;49m\u001b[43mdir_name\u001b[49m\u001b[43m,\u001b[49m\n\u001b[0;32m   1210\u001b[0m \u001b[43m        \u001b[49m\u001b[43mpn_dir\u001b[49m\u001b[38;5;241;43m=\u001b[39;49m\u001b[43mpn_dir\u001b[49m\u001b[43m,\u001b[49m\n\u001b[0;32m   1211\u001b[0m \u001b[43m        \u001b[49m\u001b[43mfmt\u001b[49m\u001b[38;5;241;43m=\u001b[39;49m\u001b[43mw_fmt\u001b[49m\u001b[43m[\u001b[49m\u001b[43mfn\u001b[49m\u001b[43m]\u001b[49m\u001b[43m,\u001b[49m\n\u001b[0;32m   1212\u001b[0m \u001b[43m        \u001b[49m\u001b[43mn_sig\u001b[49m\u001b[38;5;241;43m=\u001b[39;49m\u001b[38;5;28;43mlen\u001b[39;49m\u001b[43m(\u001b[49m\u001b[43mdatchannel\u001b[49m\u001b[43m[\u001b[49m\u001b[43mfn\u001b[49m\u001b[43m]\u001b[49m\u001b[43m)\u001b[49m\u001b[43m,\u001b[49m\n\u001b[0;32m   1213\u001b[0m \u001b[43m        \u001b[49m\u001b[43msig_len\u001b[49m\u001b[38;5;241;43m=\u001b[39;49m\u001b[43msig_len\u001b[49m\u001b[43m,\u001b[49m\n\u001b[0;32m   1214\u001b[0m \u001b[43m        \u001b[49m\u001b[43mbyte_offset\u001b[49m\u001b[38;5;241;43m=\u001b[39;49m\u001b[43mw_byte_offset\u001b[49m\u001b[43m[\u001b[49m\u001b[43mfn\u001b[49m\u001b[43m]\u001b[49m\u001b[43m,\u001b[49m\n\u001b[0;32m   1215\u001b[0m \u001b[43m        \u001b[49m\u001b[43msamps_per_frame\u001b[49m\u001b[38;5;241;43m=\u001b[39;49m\u001b[43mw_samps_per_frame\u001b[49m\u001b[43m[\u001b[49m\u001b[43mfn\u001b[49m\u001b[43m]\u001b[49m\u001b[43m,\u001b[49m\n\u001b[0;32m   1216\u001b[0m \u001b[43m        \u001b[49m\u001b[43mskew\u001b[49m\u001b[38;5;241;43m=\u001b[39;49m\u001b[43mw_skew\u001b[49m\u001b[43m[\u001b[49m\u001b[43mfn\u001b[49m\u001b[43m]\u001b[49m\u001b[43m,\u001b[49m\n\u001b[0;32m   1217\u001b[0m \u001b[43m        \u001b[49m\u001b[43minit_value\u001b[49m\u001b[38;5;241;43m=\u001b[39;49m\u001b[43mw_init_value\u001b[49m\u001b[43m[\u001b[49m\u001b[43mfn\u001b[49m\u001b[43m]\u001b[49m\u001b[43m,\u001b[49m\n\u001b[0;32m   1218\u001b[0m \u001b[43m        \u001b[49m\u001b[43msampfrom\u001b[49m\u001b[38;5;241;43m=\u001b[39;49m\u001b[43msampfrom\u001b[49m\u001b[43m,\u001b[49m\n\u001b[0;32m   1219\u001b[0m \u001b[43m        \u001b[49m\u001b[43msampto\u001b[49m\u001b[38;5;241;43m=\u001b[39;49m\u001b[43msampto\u001b[49m\u001b[43m,\u001b[49m\n\u001b[0;32m   1220\u001b[0m \u001b[43m        \u001b[49m\u001b[43mno_file\u001b[49m\u001b[38;5;241;43m=\u001b[39;49m\u001b[43mno_file\u001b[49m\u001b[43m,\u001b[49m\n\u001b[0;32m   1221\u001b[0m \u001b[43m        \u001b[49m\u001b[43msig_data\u001b[49m\u001b[38;5;241;43m=\u001b[39;49m\u001b[43msig_data\u001b[49m\u001b[43m,\u001b[49m\n\u001b[0;32m   1222\u001b[0m \u001b[43m    \u001b[49m\u001b[43m)\u001b[49m\n\u001b[0;32m   1224\u001b[0m     \u001b[38;5;66;03m# Copy over the wanted signals\u001b[39;00m\n\u001b[0;32m   1225\u001b[0m     \u001b[38;5;28;01mfor\u001b[39;00m cn \u001b[38;5;129;01min\u001b[39;00m \u001b[38;5;28mrange\u001b[39m(\u001b[38;5;28mlen\u001b[39m(out_dat_channel[fn])):\n",
      "File \u001b[1;32m~\\AppData\\Local\\Programs\\Python\\Python311\\Lib\\site-packages\\wfdb\\io\\_signal.py:1347\u001b[0m, in \u001b[0;36m_rd_dat_signals\u001b[1;34m(file_name, dir_name, pn_dir, fmt, n_sig, sig_len, byte_offset, samps_per_frame, skew, init_value, sampfrom, sampto, no_file, sig_data)\u001b[0m\n\u001b[0;32m   1335\u001b[0m     data_to_read \u001b[38;5;241m=\u001b[39m _rd_compressed_file(\n\u001b[0;32m   1336\u001b[0m         file_name\u001b[38;5;241m=\u001b[39mfile_name,\n\u001b[0;32m   1337\u001b[0m         dir_name\u001b[38;5;241m=\u001b[39mdir_name,\n\u001b[1;32m   (...)\u001b[0m\n\u001b[0;32m   1344\u001b[0m         end_frame\u001b[38;5;241m=\u001b[39msampto,\n\u001b[0;32m   1345\u001b[0m     )\n\u001b[0;32m   1346\u001b[0m \u001b[38;5;28;01melse\u001b[39;00m:\n\u001b[1;32m-> 1347\u001b[0m     data_to_read \u001b[38;5;241m=\u001b[39m \u001b[43m_rd_dat_file\u001b[49m\u001b[43m(\u001b[49m\n\u001b[0;32m   1348\u001b[0m \u001b[43m        \u001b[49m\u001b[43mfile_name\u001b[49m\u001b[43m,\u001b[49m\u001b[43m \u001b[49m\u001b[43mdir_name\u001b[49m\u001b[43m,\u001b[49m\u001b[43m \u001b[49m\u001b[43mpn_dir\u001b[49m\u001b[43m,\u001b[49m\u001b[43m \u001b[49m\u001b[43mfmt\u001b[49m\u001b[43m,\u001b[49m\u001b[43m \u001b[49m\u001b[43mstart_byte\u001b[49m\u001b[43m,\u001b[49m\u001b[43m \u001b[49m\u001b[43mn_read_samples\u001b[49m\n\u001b[0;32m   1349\u001b[0m \u001b[43m    \u001b[49m\u001b[43m)\u001b[49m\n\u001b[0;32m   1351\u001b[0m \u001b[38;5;28;01mif\u001b[39;00m extra_flat_samples:\n\u001b[0;32m   1352\u001b[0m     \u001b[38;5;28;01mif\u001b[39;00m fmt \u001b[38;5;129;01min\u001b[39;00m UNALIGNED_FMTS:\n\u001b[0;32m   1353\u001b[0m         \u001b[38;5;66;03m# Extra number of bytes to append onto the bytes read from\u001b[39;00m\n\u001b[0;32m   1354\u001b[0m         \u001b[38;5;66;03m# the dat file.\u001b[39;00m\n",
      "File \u001b[1;32m~\\AppData\\Local\\Programs\\Python\\Python311\\Lib\\site-packages\\wfdb\\io\\_signal.py:1648\u001b[0m, in \u001b[0;36m_rd_dat_file\u001b[1;34m(file_name, dir_name, pn_dir, fmt, start_byte, n_samp)\u001b[0m\n\u001b[0;32m   1646\u001b[0m \u001b[38;5;66;03m# Local dat file\u001b[39;00m\n\u001b[0;32m   1647\u001b[0m \u001b[38;5;28;01mif\u001b[39;00m pn_dir \u001b[38;5;129;01mis\u001b[39;00m \u001b[38;5;28;01mNone\u001b[39;00m:\n\u001b[1;32m-> 1648\u001b[0m     \u001b[38;5;28;01mwith\u001b[39;00m \u001b[38;5;28mopen\u001b[39m(os\u001b[38;5;241m.\u001b[39mpath\u001b[38;5;241m.\u001b[39mjoin(dir_name, file_name), \u001b[38;5;124m\"\u001b[39m\u001b[38;5;124mrb\u001b[39m\u001b[38;5;124m\"\u001b[39m) \u001b[38;5;28;01mas\u001b[39;00m fp:\n\u001b[0;32m   1649\u001b[0m         fp\u001b[38;5;241m.\u001b[39mseek(start_byte)\n\u001b[0;32m   1650\u001b[0m         sig_data \u001b[38;5;241m=\u001b[39m np\u001b[38;5;241m.\u001b[39mfromfile(\n\u001b[0;32m   1651\u001b[0m             fp, dtype\u001b[38;5;241m=\u001b[39mnp\u001b[38;5;241m.\u001b[39mdtype(DATA_LOAD_TYPES[fmt]), count\u001b[38;5;241m=\u001b[39melement_count\n\u001b[0;32m   1652\u001b[0m         )\n",
      "\u001b[1;31mKeyboardInterrupt\u001b[0m: "
     ]
    }
   ],
   "source": [
    "path = '../ptb-xl-a-large-publicly-available-electrocardiography-dataset-1.0.1/'\n",
    "sampling_rate=100\n",
    "\n",
    "# load and convert annotation data\n",
    "Y = pd.read_csv(path+'ptbxl_database.csv', index_col='ecg_id')\n",
    "Y.scp_codes = Y.scp_codes.apply(lambda x: ast.literal_eval(x))\n",
    "\n",
    "# Load raw signal data\n",
    "X = load_raw_data(Y, sampling_rate, path)\n",
    "\n",
    "print('data shpae:', X.shape)\n",
    "Y[['scp_codes']]\n",
    "Y"
   ]
  },
  {
   "cell_type": "code",
   "execution_count": null,
   "id": "59507d74-7988-41fa-9a2d-9750b75032c2",
   "metadata": {},
   "outputs": [],
   "source": [
    "#Load Data for Heart Beat Diagnostic"
   ]
  },
  {
   "cell_type": "code",
   "execution_count": null,
   "id": "498ff03d-1419-49bd-bf0d-91b4e190e0de",
   "metadata": {
    "tags": []
   },
   "outputs": [],
   "source": [
    "# Load scp_statements.csv for diagnostic aggregation\n",
    "agg_df = pd.read_csv(path+'scp_statements.csv', index_col=0)\n",
    "agg_df = agg_df[agg_df.diagnostic == 1]\n",
    "print(agg_df.shape)\n",
    "agg_df.head()"
   ]
  },
  {
   "cell_type": "code",
   "execution_count": null,
   "id": "5c1b861c-3aef-4dc9-a6c6-91f66f86d549",
   "metadata": {
    "tags": []
   },
   "outputs": [],
   "source": [
    "def aggregate_supclass_diagnostic(y_dic):\n",
    "    tmp = []\n",
    "    for key in y_dic.keys():\n",
    "        if key in agg_df.index:\n",
    "            tmp.append(agg_df.loc[key].diagnostic_class)\n",
    "    return list(set(tmp))\n",
    "    \n",
    "# Apply diagnostic superclass\n",
    "Y['diagnostic_superclass'] = Y.scp_codes.apply(aggregate_supclass_diagnostic)\n",
    "Y['diagnostic_superclass_len'] = Y['diagnostic_superclass'].apply(len)\n",
    "Y.loc[Y.diagnostic_superclass_len > 1, 'diagnostic_superclass']"
   ]
  },
  {
   "cell_type": "code",
   "execution_count": null,
   "id": "77310df4-7c12-4346-a99b-0528a52f0932",
   "metadata": {
    "tags": []
   },
   "outputs": [],
   "source": [
    "vc = Y['diagnostic_superclass_len'].value_counts()\n",
    "\n",
    "sns.set_style(\"whitegrid\")\n",
    "bar,ax = plt.subplots(figsize=(10,6))\n",
    "ax = sns.barplot(x=vc.values/vc.values.sum()*100., y=vc.index, ci=None, palette=\"muted\",orient='h' )\n",
    "ax.set_title(\"Diagnostic Superclass Len Distribution\", fontsize=20)\n",
    "ax.set_xlabel (\"percentage over all samples\")\n",
    "ax.set_ylabel (\"diagnostic_superclass_len\")\n",
    "for rect in ax.patches:\n",
    "    ax.text (rect.get_width(), rect.get_y() + rect.get_height() / 2,\"%.1f%%\"% rect.get_width(), weight='bold' )"
   ]
  },
  {
   "cell_type": "code",
   "execution_count": null,
   "id": "cec47951-b57c-4527-abc4-253a7610c34b",
   "metadata": {},
   "outputs": [],
   "source": [
    "#Number of Subclass per ECG record"
   ]
  },
  {
   "cell_type": "code",
   "execution_count": null,
   "id": "89579941-ad8b-4326-b6f1-75f8b307281a",
   "metadata": {
    "tags": []
   },
   "outputs": [],
   "source": [
    "def aggregate_subclass_diagnostic(y_dic):\n",
    "    tmp = []\n",
    "    for key in y_dic.keys():\n",
    "        if key in agg_df.index:\n",
    "            tmp.append(agg_df.loc[key].diagnostic_subclass)\n",
    "    ret = list(set(tmp))\n",
    "    ret = ['sub_'+r for r in ret] # to distinguish between subclass and superclass columns\n",
    "    return ret\n",
    "\n",
    "# Apply diagnostic subclass\n",
    "Y['diagnostic_subclass'] = Y.scp_codes.apply(aggregate_subclass_diagnostic)\n",
    "Y['diagnostic_subclass_len'] = Y['diagnostic_subclass'].apply(len)\n",
    "Y.loc[Y.diagnostic_subclass_len > 1, 'diagnostic_subclass']"
   ]
  },
  {
   "cell_type": "code",
   "execution_count": null,
   "id": "ab519f6b-3bd4-45cc-ad31-9b182bd537aa",
   "metadata": {
    "tags": []
   },
   "outputs": [],
   "source": [
    "vc = Y['diagnostic_subclass_len'].value_counts()\n",
    "\n",
    "sns.set_style(\"whitegrid\")\n",
    "bar,ax = plt.subplots(figsize=(10,6))\n",
    "ax = sns.barplot(x=vc.values/vc.values.sum()*100., y=vc.index, ci=None, palette=\"muted\",orient='h' )\n",
    "ax.set_title(\"Diagnostic Subclass Length Distribution\", fontsize=20)\n",
    "ax.set_xlabel (\"percentage over all samples\")\n",
    "ax.set_ylabel (\"diagnostic_subclass_len\")\n",
    "for rect in ax.patches:\n",
    "    ax.text (rect.get_width(), rect.get_y() + rect.get_height() / 2,\"%.1f%%\"% rect.get_width(), weight='bold' )\n"
   ]
  },
  {
   "cell_type": "code",
   "execution_count": null,
   "id": "d90a02ca-2f52-4a0b-971f-84dd999b3394",
   "metadata": {
    "tags": []
   },
   "outputs": [],
   "source": [
    "all_superclass = pd.Series(np.concatenate(Y['diagnostic_superclass'].values))\n",
    "all_subclass = pd.Series(np.concatenate(Y['diagnostic_subclass'].values))\n",
    "superclass_cols = all_superclass.unique()\n",
    "subclass_cols = all_subclass.unique()\n",
    "update_cols = np.concatenate([superclass_cols, subclass_cols]) # add meta data columns\n",
    "meta_cols = ['age', 'sex', 'height', 'weight', 'nurse', 'site', 'device',] # could add more columns as features"
   ]
  },
  {
   "cell_type": "code",
   "execution_count": null,
   "id": "5f53667f-1abc-41a8-90cb-3e397476dd4a",
   "metadata": {},
   "outputs": [],
   "source": [
    "#Reformat Data"
   ]
  },
  {
   "cell_type": "code",
   "execution_count": null,
   "id": "236f7117-aa88-4668-9dd9-7b8d36a50fb3",
   "metadata": {
    "tags": []
   },
   "outputs": [],
   "source": [
    "class ClassUpdate():\n",
    "    def __init__(self, cols):\n",
    "        self.cols = cols\n",
    "\n",
    "    def __call__(self, row):\n",
    "        for sc in row['diagnostic_superclass']:\n",
    "            row[sc] = 1\n",
    "        for sc in row['diagnostic_subclass']:\n",
    "            row[sc] = 1\n",
    "            \n",
    "        return row\n",
    "\n",
    "def get_data_by_folds(folds, x, y, update_cols, feature_cols):\n",
    "    assert len(folds)  > 0, '# of provided folds should longer than 1'\n",
    "    #print(y.strat_fold)\n",
    "    filt = np.isin(y.strat_fold.values, folds)\n",
    "    x_selected = x[filt]\n",
    "    y_selected = y[filt]\n",
    "    \n",
    "    for sc in update_cols:\n",
    "        y_selected[sc] = 0\n",
    "        \n",
    "    cls_updt = ClassUpdate(update_cols)\n",
    "    \n",
    "    y_selected = y_selected.apply(cls_updt, axis=1)\n",
    "    \n",
    "    return x_selected, y_selected[list(feature_cols)+list(update_cols)+['strat_fold']]"
   ]
  },
  {
   "cell_type": "code",
   "execution_count": null,
   "id": "2fb49e1f-5b09-43d7-a77b-24a461103c5c",
   "metadata": {
    "tags": []
   },
   "outputs": [],
   "source": [
    "x_all, y_all = get_data_by_folds(np.arange(1, 11), X, Y, update_cols, meta_cols)"
   ]
  },
  {
   "cell_type": "code",
   "execution_count": null,
   "id": "2d4c68cd-2bc9-4078-9cdf-36a74334f440",
   "metadata": {
    "tags": []
   },
   "outputs": [],
   "source": [
    "y_all"
   ]
  },
  {
   "cell_type": "code",
   "execution_count": null,
   "id": "c93da54b-4ec5-4bb1-a51c-af25f210307d",
   "metadata": {
    "tags": []
   },
   "outputs": [],
   "source": [
    "vc = y_all[superclass_cols].sum(axis=0)\n",
    "\n",
    "sns.set_style(\"whitegrid\")\n",
    "bar,ax = plt.subplots(figsize=(10,6))\n",
    "ax = sns.barplot(x=vc.values/y_all.shape[0]*100., y=vc.index, ci=None, palette=\"muted\",orient='h' )\n",
    "ax.set_title(\"Diagnositic Superclass Distribution\", fontsize=20)\n",
    "ax.set_xlabel (\"percentage over all samples\")\n",
    "ax.set_ylabel (\"diagnositic superclass\")\n",
    "for rect in ax.patches:\n",
    "    ax.text (rect.get_width(), rect.get_y() + rect.get_height() / 2,\"%.1f%%\"% rect.get_width(), weight='bold' )"
   ]
  },
  {
   "cell_type": "code",
   "execution_count": null,
   "id": "3a13d039-8f29-4e89-ae75-beb8b7b86bc1",
   "metadata": {},
   "outputs": [],
   "source": [
    "#ECG Example"
   ]
  },
  {
   "cell_type": "code",
   "execution_count": null,
   "id": "32ec924b-c24c-4925-b48f-0308def2ed91",
   "metadata": {
    "tags": []
   },
   "outputs": [],
   "source": [
    "y_all['NORM']"
   ]
  },
  {
   "cell_type": "code",
   "execution_count": null,
   "id": "3f4485a5-dbfc-4733-8009-e98c2c9e306c",
   "metadata": {
    "tags": []
   },
   "outputs": [],
   "source": [
    "sample_num = 1\n",
    "\n",
    "for superclass in superclass_cols:\n",
    "    filt = y_all[superclass] == 1\n",
    "    y_selected = y_all.loc[filt]\n",
    "    x_selected = x_all[filt]\n",
    "    \n",
    "    for i in range(sample_num):\n",
    "        y_ = y_selected.iloc[i]\n",
    "        x_ = x_selected[i]\n",
    "        \n",
    "        #display(y_)\n",
    "        #print(y_.shape, x_.shape); assert False\n",
    "        bar, axes = plt.subplots(x_.shape[1], 1, figsize=(10,10))\n",
    "        title = \"Superclass = {}, Age = {}, Height = {}, Weight = {}, Sex = {}, Nurse = {}, Site = {}, Device = {}\".format(superclass, \n",
    "                                                                                                                           y_['age'], y_['height'], y_['weight'],\n",
    "                                                                                                                           y_['sex'], y_['nurse'], y_['site'], y_['device'],)\n",
    "        axes[0].set_title(title, fontsize=15)\n",
    "        \n",
    "        for c in np.arange(x_.shape[1]):\n",
    "            sns.lineplot(x=np.arange(x_.shape[0]), y=x_[:, c], ax=axes[c])\n",
    "        \n",
    "        plt.tight_layout()\n",
    "        plt.show()\n",
    "        #assert False"
   ]
  },
  {
   "cell_type": "code",
   "execution_count": null,
   "id": "30b08242-d42a-431a-8770-222e27817a12",
   "metadata": {
    "tags": []
   },
   "outputs": [],
   "source": [
    "#Extracted Features\n",
    "extfea_path = '../ptb-xl-a-comprehensive-electrocardiographic-feature-dataset-1.0.1/features/'\n",
    "extfea_data = pd.read_csv(extfea_path+'ecgdeli_features.csv', index_col='ecg_id')\n"
   ]
  },
  {
   "cell_type": "code",
   "execution_count": null,
   "id": "a025fd4d-711e-4601-8133-2755a63414cc",
   "metadata": {
    "tags": []
   },
   "outputs": [],
   "source": [
    "extfea_data.shape"
   ]
  },
  {
   "cell_type": "code",
   "execution_count": null,
   "id": "afb6c1a7-2093-4885-be59-103bb172294f",
   "metadata": {
    "tags": []
   },
   "outputs": [],
   "source": [
    "Y_new = Y[:extfea_data.shape[0]]"
   ]
  },
  {
   "cell_type": "code",
   "execution_count": null,
   "id": "cccae08c-7f68-4446-a28c-0a13c9647cd2",
   "metadata": {
    "tags": []
   },
   "outputs": [],
   "source": [
    "Y_new.shape"
   ]
  },
  {
   "cell_type": "code",
   "execution_count": null,
   "id": "edee0026-83b3-46b0-8529-d12f7da3bfbb",
   "metadata": {
    "tags": []
   },
   "outputs": [],
   "source": [
    "X_new = X[:extfea_data.shape[0]]"
   ]
  },
  {
   "cell_type": "code",
   "execution_count": null,
   "id": "6cb5f113-06f4-476e-b146-dea5286685b6",
   "metadata": {
    "tags": []
   },
   "outputs": [],
   "source": [
    "X_new.shape"
   ]
  },
  {
   "cell_type": "code",
   "execution_count": null,
   "id": "960bea30-d48f-41c6-b804-5f455c2f8465",
   "metadata": {
    "tags": []
   },
   "outputs": [],
   "source": [
    "# raw_signal = X[:extfea_data.shape[0]]\n",
    "# raw_signal = raw_signal[Y_new.diagnostic_superclass_len == 1]\n",
    "# raw_signal.shape"
   ]
  },
  {
   "cell_type": "code",
   "execution_count": null,
   "id": "1ec76448-0e4f-4777-a43b-7d6b16e907bd",
   "metadata": {
    "tags": []
   },
   "outputs": [],
   "source": [
    "# leads_I = []\n",
    "# leads_II = []\n",
    "# leads_III = []\n",
    "# leads_aVR = []\n",
    "# leads_aVL = []\n",
    "# leads_aVF = []\n",
    "# leads_V1 = []\n",
    "# leads_V2 = []\n",
    "# leads_V3 = []\n",
    "# leads_V4 = []\n",
    "# leads_V5 = []\n",
    "# leads_V6 = []\n",
    "\n",
    "# for leads in raw_signal :\n",
    "#     temp = []\n",
    "#     lead_I = leads[:, 0]\n",
    "#     lead_II = leads[:, 1]\n",
    "#     lead_III = leads[:, 2]\n",
    "#     lead_aVR = leads[:, 3]\n",
    "#     lead_aVL = leads[:, 4]\n",
    "#     lead_aVF = leads[:, 5]\n",
    "#     lead_V1 = leads[:, 6]\n",
    "#     lead_V2 = leads[:, 7]\n",
    "#     lead_V3 = leads[:, 8]\n",
    "#     lead_V4 = leads[:, 9]\n",
    "#     lead_V5 = leads[:, 10]\n",
    "#     lead_V6 = leads[:, 11]\n",
    "    \n",
    "#     leads_I.append(lead_I)\n",
    "#     leads_II.append(lead_II)\n",
    "#     leads_III.append(lead_III)\n",
    "#     leads_aVR.append(lead_aVR)\n",
    "#     leads_aVL.append(lead_aVL)\n",
    "#     leads_aVF.append(lead_aVF)\n",
    "#     leads_V1.append(lead_V1)\n",
    "#     leads_V2.append(lead_V2)\n",
    "#     leads_V3.append(lead_V3)\n",
    "#     leads_V4.append(lead_V4)\n",
    "#     leads_V5.append(lead_V5)\n",
    "#     leads_V6.append(lead_V6)"
   ]
  },
  {
   "cell_type": "code",
   "execution_count": null,
   "id": "18673b74-2428-426f-af2c-c71b2dc58110",
   "metadata": {
    "tags": []
   },
   "outputs": [],
   "source": [
    "X_new = Y_new.assign(\n",
    "        #RR_Mean\n",
    "        RR_Mean_Global = extfea_data['RR_Mean_Global'],\n",
    "    \n",
    "        #ST_Elevation\n",
    "        ST_Elev_I = extfea_data['ST_Elev_I'],\n",
    "        ST_Elev_II = extfea_data['ST_Elev_II'],\n",
    "        ST_Elev_III = extfea_data['ST_Elev_III'],\n",
    "        ST_Elev_V1 = extfea_data['ST_Elev_V1'],\n",
    "        ST_Elev_V2 = extfea_data['ST_Elev_V2'],\n",
    "        ST_Elev_V3 = extfea_data['ST_Elev_V3'],\n",
    "        ST_Elev_V4 = extfea_data['ST_Elev_V4'],\n",
    "        ST_Elev_V5 = extfea_data['ST_Elev_V5'],\n",
    "        ST_Elev_V6 = extfea_data['ST_Elev_V6'],\n",
    "        ST_Elev_aVF = extfea_data['ST_Elev_aVF'],\n",
    "        ST_Elev_aVR = extfea_data['ST_Elev_aVR'],\n",
    "        ST_Elev_aVL = extfea_data['ST_Elev_aVL'],\n",
    "    \n",
    "        #PR_Interval\n",
    "        PR_Int_Global = extfea_data['PR_Int_Global'],\n",
    "        PR_Int_I = extfea_data['PR_Int_I'],\n",
    "        PR_Int_II = extfea_data['PR_Int_II'],\n",
    "        PR_Int_III = extfea_data['PR_Int_III'],\n",
    "        PR_Int_V1 = extfea_data['PR_Int_V1'],\n",
    "        PR_Int_V2 = extfea_data['PR_Int_V2'],\n",
    "        PR_Int_V3 = extfea_data['PR_Int_V3'],\n",
    "        PR_Int_V4 = extfea_data['PR_Int_V4'],\n",
    "        PR_Int_V5 = extfea_data['PR_Int_V5'],\n",
    "        PR_Int_V6 = extfea_data['PR_Int_V6'],\n",
    "        PR_Int_aVF = extfea_data['PR_Int_aVF'],\n",
    "        PR_Int_aVL = extfea_data['PR_Int_aVL'],\n",
    "        PR_Int_aVR = extfea_data['PR_Int_aVR'],\n",
    "    \n",
    "        #PQ_Interval\n",
    "        PQ_Int_Global = extfea_data['PQ_Int_Global'],\n",
    "        PQ_Int_I = extfea_data['PQ_Int_I'],\n",
    "        PQ_Int_II = extfea_data['PQ_Int_II'],\n",
    "        PQ_Int_III = extfea_data['PQ_Int_III'],\n",
    "        PQ_Int_V1 = extfea_data['PQ_Int_V1'],\n",
    "        PQ_Int_V2 = extfea_data['PQ_Int_V2'],\n",
    "        PQ_Int_V3 = extfea_data['PQ_Int_V3'],\n",
    "        PQ_Int_V4 = extfea_data['PQ_Int_V4'],\n",
    "        PQ_Int_V5 = extfea_data['PQ_Int_V5'],\n",
    "        PQ_Int_V6 = extfea_data['PQ_Int_V6'],\n",
    "        PQ_Int_aVF = extfea_data['PQ_Int_aVF'],\n",
    "        PQ_Int_aVL = extfea_data['PQ_Int_aVL'],\n",
    "        PQ_Int_aVR = extfea_data['PQ_Int_aVR'],\n",
    "    \n",
    "        #QRS_Duration\n",
    "        QRS_Dur_I = extfea_data['QRS_Dur_I'],\n",
    "        QRS_Dur_II = extfea_data['QRS_Dur_II'],\n",
    "        QRS_Dur_III = extfea_data['QRS_Dur_III'],\n",
    "        QRS_Dur_V1 = extfea_data['QRS_Dur_V1'],\n",
    "        QRS_Dur_V2 = extfea_data['QRS_Dur_V2'],\n",
    "        QRS_Dur_V3 = extfea_data['QRS_Dur_V3'],\n",
    "        QRS_Dur_V4 = extfea_data['QRS_Dur_V4'],\n",
    "        QRS_Dur_V5 = extfea_data['QRS_Dur_V5'],\n",
    "        QRS_Dur_V6 = extfea_data['QRS_Dur_V6'],\n",
    "        QRS_Dur_aVF = extfea_data['QRS_Dur_aVF'],\n",
    "        QRS_Dur_aVL = extfea_data['QRS_Dur_aVL'],\n",
    "        QRS_Dur_aVR = extfea_data['QRS_Dur_aVR'],\n",
    "    \n",
    "        #QT_Interval\n",
    "        QT_Int_I = extfea_data['QT_Int_I'],\n",
    "        QT_Int_II = extfea_data['QT_Int_II'],\n",
    "        QT_Int_III = extfea_data['QT_Int_III'],\n",
    "        QT_Int_V1 = extfea_data['QT_Int_V1'],\n",
    "        QT_Int_V2 = extfea_data['QT_Int_V2'],\n",
    "        QT_Int_V3 = extfea_data['QT_Int_V3'],\n",
    "        QT_Int_V4 = extfea_data['QT_Int_V4'],\n",
    "        QT_Int_V5 = extfea_data['QT_Int_V5'],\n",
    "        QT_Int_V6 = extfea_data['QT_Int_V6'],\n",
    "        QT_Int_aVF = extfea_data['QT_Int_aVF'],\n",
    "        QT_Int_aVL = extfea_data['QT_Int_aVL'],\n",
    "        QT_Int_aVR = extfea_data['QT_Int_aVR'],\n",
    "    \n",
    "        #R_Amplitudo\n",
    "        R_Amp_I = extfea_data['R_Amp_I'],\n",
    "        R_Amp_II = extfea_data['R_Amp_II'],\n",
    "        R_Amp_III = extfea_data['R_Amp_III'],\n",
    "        R_Amp_V1 = extfea_data['R_Amp_V1'],\n",
    "        R_Amp_V2 = extfea_data['R_Amp_V2'],\n",
    "        R_Amp_V3 = extfea_data['R_Amp_V3'],\n",
    "        R_Amp_V4 = extfea_data['R_Amp_V4'],\n",
    "        R_Amp_V5 = extfea_data['R_Amp_V5'],\n",
    "        R_Amp_V6 = extfea_data['R_Amp_V6'],\n",
    "        R_Amp_aVF = extfea_data['R_Amp_aVF'],\n",
    "        R_Amp_aVL = extfea_data['R_Amp_aVL'],\n",
    "        R_Amp_aVR = extfea_data['R_Amp_aVR'],\n",
    "    \n",
    "        #Q_Amplitudo\n",
    "        Q_Amp_I = extfea_data['Q_Amp_I'],\n",
    "        Q_Amp_II = extfea_data['Q_Amp_II'],\n",
    "        Q_Amp_III = extfea_data['Q_Amp_III'],\n",
    "        Q_Amp_V1 = extfea_data['Q_Amp_V1'],\n",
    "        Q_Amp_V2 = extfea_data['Q_Amp_V2'],\n",
    "        Q_Amp_V3 = extfea_data['Q_Amp_V3'],\n",
    "        Q_Amp_V4 = extfea_data['Q_Amp_V4'],\n",
    "        Q_Amp_V5 = extfea_data['Q_Amp_V5'],\n",
    "        Q_Amp_V6 = extfea_data['Q_Amp_V6'],\n",
    "        Q_Amp_aVF = extfea_data['Q_Amp_aVF'],\n",
    "        Q_Amp_aVL = extfea_data['Q_Amp_aVL'],\n",
    "        Q_Amp_aVR = extfea_data['Q_Amp_aVR'],\n",
    "        \n",
    "        #P_Amplitudo\n",
    "        P_Amp_I = extfea_data['P_Amp_I'],\n",
    "        P_Amp_II = extfea_data['P_Amp_II'],\n",
    "        P_Amp_III = extfea_data['P_Amp_III'],\n",
    "        P_Amp_V1 = extfea_data['P_Amp_V1'],\n",
    "        P_Amp_V2 = extfea_data['P_Amp_V2'],\n",
    "        P_Amp_V3 = extfea_data['P_Amp_V3'],\n",
    "        P_Amp_V4 = extfea_data['P_Amp_V4'],\n",
    "        P_Amp_V5 = extfea_data['P_Amp_V5'],\n",
    "        P_Amp_V6 = extfea_data['P_Amp_V6'],\n",
    "        P_Amp_aVF = extfea_data['P_Amp_aVF'],\n",
    "        P_Amp_aVL = extfea_data['P_Amp_aVL'],\n",
    "        P_Amp_aVR = extfea_data['P_Amp_aVR']\n",
    "\n",
    ")\n",
    "\n",
    "        "
   ]
  },
  {
   "cell_type": "code",
   "execution_count": null,
   "id": "27a30c36-ac50-4d06-b661-402c185b9bd1",
   "metadata": {
    "tags": []
   },
   "outputs": [],
   "source": [
    "#Select Record with single superclass label\n",
    "X_selected = X_new[Y_new.diagnostic_superclass_len == 1]\n",
    "Y_selected = Y_new.loc[Y_new.diagnostic_superclass_len == 1]"
   ]
  },
  {
   "cell_type": "code",
   "execution_count": null,
   "id": "c112374e-8aac-49e6-a273-f56e2bb01dfb",
   "metadata": {
    "tags": []
   },
   "outputs": [],
   "source": [
    "selected_feature = ['RR_Mean_Global',\n",
    "                    'ST_Elev_I','ST_Elev_II','ST_Elev_III',\n",
    "                    'ST_Elev_V1','ST_Elev_V2', 'ST_Elev_V3', 'ST_Elev_V4', 'ST_Elev_V5', 'ST_Elev_V6',\n",
    "                    'ST_Elev_aVF','ST_Elev_aVL', 'ST_Elev_aVR',\n",
    "                    'PR_Int_I','PR_Int_II','PR_Int_III',\n",
    "                    'PR_Int_V1','PR_Int_V2','PR_Int_V3', 'PR_Int_V4', 'PR_Int_V5', 'PR_Int_V6',\n",
    "                    'PR_Int_aVF','PR_Int_aVL', 'PR_Int_aVR',\n",
    "                    'PQ_Int_Global','PQ_Int_I','PQ_Int_II','PQ_Int_III',\n",
    "                    'PQ_Int_V1','PQ_Int_V2','PQ_Int_V3', 'PQ_Int_V4', 'PQ_Int_V5', 'PQ_Int_V6',\n",
    "                    'PQ_Int_aVF','PQ_Int_aVL', 'PQ_Int_aVR',\n",
    "                    'QRS_Dur_I','QRS_Dur_II','QRS_Dur_III',\n",
    "                    'QRS_Dur_V1','QRS_Dur_V2','QRS_Dur_V3','QRS_Dur_V4','QRS_Dur_V5','QRS_Dur_V6',\n",
    "                    'QRS_Dur_aVF','QRS_Dur_aVL','QRS_Dur_aVR',\n",
    "                    'QT_Int_I','QT_Int_II','QT_Int_III',\n",
    "                    'QT_Int_V1','QT_Int_V2','QT_Int_V3', 'QT_Int_V4', 'QT_Int_V5', 'QT_Int_V6',\n",
    "                    'QT_Int_aVF','QT_Int_aVL', 'QT_Int_aVR',\n",
    "                    'R_Amp_I','R_Amp_II','R_Amp_III',\n",
    "                    'R_Amp_V1','R_Amp_V2','R_Amp_V3', 'R_Amp_V4', 'R_Amp_V5', 'R_Amp_V6',\n",
    "                    'R_Amp_aVF','R_Amp_aVL', 'R_Amp_aVR',\n",
    "                    'Q_Amp_I','Q_Amp_II','Q_Amp_III',\n",
    "                    'Q_Amp_V1','Q_Amp_V2','Q_Amp_V3', 'Q_Amp_V4', 'Q_Amp_V5', 'Q_Amp_V6',\n",
    "                    'Q_Amp_aVF','Q_Amp_aVL', 'Q_Amp_aVR',\n",
    "                    'P_Amp_I','P_Amp_II','P_Amp_III',\n",
    "                    'P_Amp_V1','P_Amp_V2','P_Amp_V3', 'P_Amp_V4', 'P_Amp_V5', 'P_Amp_V6',\n",
    "                    'P_Amp_aVF','P_Amp_aVL', 'P_Amp_aVR'\n",
    "                                \n",
    "                    ]\n",
    "X_selected_feature = X_selected[selected_feature]"
   ]
  },
  {
   "cell_type": "code",
   "execution_count": null,
   "id": "55d4c4ef-bd8e-44a8-8568-5432ec49cf28",
   "metadata": {
    "tags": []
   },
   "outputs": [],
   "source": [
    "# X_selected_feature['lead_I'] = leads_I\n",
    "# X_selected_feature['lead_II'] = leads_II\n",
    "# X_selected_feature['lead_III'] = leads_III\n",
    "# X_selected_feature['lead_aVR'] = leads_aVR\n",
    "# X_selected_feature['lead_aVL'] = leads_aVL\n",
    "# X_selected_feature['lead_aVF'] = leads_aVF\n",
    "# X_selected_feature['lead_V1'] = leads_V1\n",
    "# X_selected_feature['lead_V2'] = leads_V2\n",
    "# X_selected_feature['lead_V3'] = leads_V3\n",
    "# X_selected_feature['lead_V4'] = leads_V4\n",
    "# X_selected_feature['lead_V5'] = leads_V5\n",
    "# X_selected_feature['lead_V6'] = leads_V6"
   ]
  },
  {
   "cell_type": "code",
   "execution_count": null,
   "id": "b16687c5-9efa-442d-82d7-df4c270fca75",
   "metadata": {
    "tags": []
   },
   "outputs": [],
   "source": [
    "labels = []\n",
    "for i in range(len(Y_selected)) :\n",
    "    if Y_selected['diagnostic_superclass'].iloc[i] == ['NORM']:\n",
    "        labels.append('NORM')\n",
    "    elif Y_selected['diagnostic_superclass'].iloc[i] == ['MI'] :\n",
    "        labels.append('MI')\n",
    "    elif Y_selected['diagnostic_superclass'].iloc[i] == ['STTC'] :\n",
    "        labels.append('STTC')\n",
    "    elif Y_selected['diagnostic_superclass'].iloc[i] == ['HYP'] :\n",
    "        labels.append('HYP')\n",
    "    elif Y_selected['diagnostic_superclass'].iloc[i] == ['CD'] :\n",
    "        labels.append('CD')"
   ]
  },
  {
   "cell_type": "code",
   "execution_count": null,
   "id": "1f6f6e37-9ca6-4c51-ba41-144472717338",
   "metadata": {
    "tags": []
   },
   "outputs": [],
   "source": [
    "df_labels = pd.DataFrame(labels, columns = ['labels'])"
   ]
  },
  {
   "cell_type": "code",
   "execution_count": null,
   "id": "41e777bd-2543-4374-a434-1702c0c4e3f9",
   "metadata": {
    "tags": []
   },
   "outputs": [],
   "source": [
    "class_distribution_before = df_labels['labels'].value_counts()\n",
    "# Generate a pie chart for class distribution before oversampling\n",
    "plt.figure(figsize=(8, 6))\n",
    "plt.pie(class_distribution_before, labels=class_distribution_before.index, autopct='%1.1f%%', shadow=True)\n",
    "plt.title('Class Distribution')\n",
    "plt.axis('equal')  # Equal aspect ratio ensures the pie chart is circular.\n",
    "plt.show()"
   ]
  },
  {
   "cell_type": "code",
   "execution_count": null,
   "id": "32b9a0c6-9ef9-4576-a90a-c678043cabbf",
   "metadata": {
    "tags": []
   },
   "outputs": [],
   "source": [
    "X_selected.shape"
   ]
  },
  {
   "cell_type": "code",
   "execution_count": null,
   "id": "426f20bf-ca91-4168-ba58-03e6451dae77",
   "metadata": {
    "tags": []
   },
   "outputs": [],
   "source": [
    "df_labels['strat_fold'] = Y_selected['strat_fold'].tolist()"
   ]
  },
  {
   "cell_type": "code",
   "execution_count": null,
   "id": "2a5a53a6-aae1-4be2-b0b3-c2c325b5a4b1",
   "metadata": {
    "tags": []
   },
   "outputs": [],
   "source": [
    "df_labels_filter = df_labels\n",
    "df_labels_filter.loc[df_labels_filter[\"labels\"] == \"STTC\", \"labels\"] = \"OTHER\"\n",
    "df_labels_filter.loc[df_labels_filter[\"labels\"] == \"HYP\", \"labels\"] = \"OTHER\"\n",
    "df_labels_filter.loc[df_labels_filter[\"labels\"] == \"CD\", \"labels\"] = \"OTHER\"\n",
    "print(df_labels_filter['labels'].value_counts())"
   ]
  },
  {
   "cell_type": "code",
   "execution_count": null,
   "id": "d86106fb-f65c-4a6a-a940-2ab5fc3e1d39",
   "metadata": {
    "tags": []
   },
   "outputs": [],
   "source": [
    "class_distribution_after= df_labels_filter['labels'].value_counts()\n",
    "# Generate a pie chart for class distribution before oversampling\n",
    "plt.figure(figsize=(8, 6))\n",
    "plt.pie(class_distribution_after, labels=class_distribution_after.index, autopct='%1.1f%%', shadow=True)\n",
    "plt.title('Class Distribution')\n",
    "plt.axis('equal')  # Equal aspect ratio ensures the pie chart is circular.\n",
    "plt.show()"
   ]
  },
  {
   "cell_type": "code",
   "execution_count": null,
   "id": "b41bfb14-75ec-45ad-8dfe-94ec689eb729",
   "metadata": {
    "tags": []
   },
   "outputs": [],
   "source": [
    "X_selected_feature = X_selected_feature.fillna(0)\n",
    "X_selected_feature "
   ]
  },
  {
   "cell_type": "code",
   "execution_count": null,
   "id": "62c2ffe5-269e-4334-85ec-cab7ea067c83",
   "metadata": {
    "tags": []
   },
   "outputs": [],
   "source": [
    "Y_selected.shape"
   ]
  },
  {
   "cell_type": "code",
   "execution_count": null,
   "id": "e9aebb27-fd6d-4b5f-976a-ad2c55beead1",
   "metadata": {
    "tags": []
   },
   "outputs": [],
   "source": [
    "df_features_label = X_selected_feature\n",
    "df_features_label['labels'] = df_labels_filter['labels'].tolist()\n",
    "df_features_label['strat_fold'] = df_labels_filter['strat_fold'].tolist()\n",
    "df_features_label.iloc[:,60:76]"
   ]
  },
  {
   "cell_type": "code",
   "execution_count": null,
   "id": "c3ff535d-0dcb-482c-8174-803650f06de8",
   "metadata": {
    "tags": []
   },
   "outputs": [],
   "source": [
    "# Separate minority and majority class samples for SMOTE-NC\n",
    "class_0 = df_features_label[df_features_label['labels'] == 'MI']  \n",
    "class_1 = df_features_label[df_features_label['labels'] == 'NORM']\n",
    "class_2 = df_features_label[df_features_label['labels'] == 'OTHER'] "
   ]
  },
  {
   "cell_type": "code",
   "execution_count": null,
   "id": "b5e1e736-ca04-4a14-b66f-dc2965e972e4",
   "metadata": {
    "tags": []
   },
   "outputs": [],
   "source": [
    "class_0.shape"
   ]
  },
  {
   "cell_type": "code",
   "execution_count": null,
   "id": "f5e39b4d-c54b-4428-bb90-c5ad317f42b6",
   "metadata": {
    "tags": []
   },
   "outputs": [],
   "source": [
    "class_0['labels_int'] = 0\n",
    "class_1['labels_int'] = 1\n",
    "class_2['labels_int'] = 2"
   ]
  },
  {
   "cell_type": "code",
   "execution_count": null,
   "id": "1c7bce49-c72e-49a1-b7ed-9e60526e1d30",
   "metadata": {
    "tags": []
   },
   "outputs": [],
   "source": [
    "feature_end = class_0.shape[1]-3"
   ]
  },
  {
   "cell_type": "code",
   "execution_count": null,
   "id": "b5809fee-3aa3-4827-a9d7-8a9971ddf3e0",
   "metadata": {
    "tags": []
   },
   "outputs": [],
   "source": [
    "df_features_label.iloc[:, 0:feature_end]"
   ]
  },
  {
   "cell_type": "code",
   "execution_count": null,
   "id": "7745f796-b364-4071-880a-fdd442230e80",
   "metadata": {
    "tags": []
   },
   "outputs": [],
   "source": [
    "# Convert the features to a numpy array (SMOTENC requires numpy arrays)\n",
    "class_0_features = class_0.iloc[:, 0:feature_end].to_numpy()\n",
    "class_1_features = class_1.iloc[:, 0:feature_end].to_numpy()\n",
    "class_2_features = class_2.iloc[:, 0:feature_end].to_numpy()"
   ]
  },
  {
   "cell_type": "code",
   "execution_count": null,
   "id": "ae22ed91-07ce-4be8-86bd-b958e09844e6",
   "metadata": {
    "tags": []
   },
   "outputs": [],
   "source": [
    "print(\"class_0 shape \", class_0_features.shape)\n",
    "print(\"class_1 shape \", class_1_features.shape)\n",
    "print(\"class_2 shape \", class_2_features.shape)\n",
    "print(class_0_features.shape[0]+class_1_features.shape[0]+class_2_features.shape[0])"
   ]
  },
  {
   "cell_type": "code",
   "execution_count": null,
   "id": "0712990f-17e8-40de-8caf-1e0359883cd0",
   "metadata": {
    "tags": []
   },
   "outputs": [],
   "source": [
    "# Combine the features and labels for SMOTE-NC\n",
    "X_for_smt = np.concatenate((class_0_features, class_1_features, class_2_features), axis=0)\n",
    "y_for_smt = np.concatenate((class_0['labels_int'].values, class_1['labels_int'].values, class_2['labels_int'].values), axis=0)"
   ]
  },
  {
   "cell_type": "code",
   "execution_count": null,
   "id": "d14d2f5a-bb8c-4471-ae5a-0f1351d50565",
   "metadata": {
    "tags": []
   },
   "outputs": [],
   "source": [
    "# Create a synthetic categorical feature based on class labels (0, 1, 2)\n",
    "num_samples = len(y_for_smt)\n",
    "categorical_feature = np.zeros(num_samples, dtype=int)\n",
    "categorical_feature[y_for_smt == 0] = 0\n",
    "categorical_feature[y_for_smt == 1] = 1\n",
    "categorical_feature[y_for_smt == 2] = 2"
   ]
  },
  {
   "cell_type": "code",
   "execution_count": null,
   "id": "bb0251d7-25a2-46e7-a3e1-eb3c1bf5c79d",
   "metadata": {
    "tags": []
   },
   "outputs": [],
   "source": [
    "# Add the synthetic categorical feature to the feature matrix\n",
    "X_with_categorical = np.column_stack((X_for_smt, categorical_feature))"
   ]
  },
  {
   "cell_type": "code",
   "execution_count": null,
   "id": "e6541fa0-6679-41ee-9074-3c6a83624dd1",
   "metadata": {
    "tags": []
   },
   "outputs": [],
   "source": [
    "# Apply SMOTE-NC to oversample the minority class (class 1)\n",
    "from imblearn.combine import SMOTETomek\n",
    "smote_tomek = SMOTETomek(random_state=42)\n",
    "X_oversampled, y_oversampled = smote_tomek.fit_resample(X_with_categorical, y_for_smt)"
   ]
  },
  {
   "cell_type": "code",
   "execution_count": null,
   "id": "6befa955-cfff-48c4-b163-31787038066c",
   "metadata": {
    "tags": []
   },
   "outputs": [],
   "source": [
    "balanced_features_df = pd.DataFrame(columns = [selected_feature])"
   ]
  },
  {
   "cell_type": "code",
   "execution_count": null,
   "id": "85f89e69-0878-41b4-a2d4-e3b1addc14f9",
   "metadata": {
    "tags": []
   },
   "outputs": [],
   "source": [
    "balanced_features_df"
   ]
  },
  {
   "cell_type": "code",
   "execution_count": null,
   "id": "ec2d8fcf-43b6-4dd4-9572-0c26d821bc6f",
   "metadata": {
    "tags": []
   },
   "outputs": [],
   "source": [
    "for record in X_oversampled :\n",
    "    balanced_features_df.loc[len(balanced_features_df.index)-1] = record[:feature_end].tolist() "
   ]
  },
  {
   "cell_type": "code",
   "execution_count": null,
   "id": "30d048c5-1874-4d15-8933-b255e9b54209",
   "metadata": {
    "tags": []
   },
   "outputs": [],
   "source": [
    "balanced_features_df['labels'] = y_oversampled.tolist()"
   ]
  },
  {
   "cell_type": "code",
   "execution_count": null,
   "id": "623ec071-9b5d-43d1-9436-a16c390463a8",
   "metadata": {
    "tags": []
   },
   "outputs": [],
   "source": [
    "# Check the class distribution after oversampling\n",
    "print(\"Class distribution after oversampling:\")\n",
    "class_distribution_after = balanced_features_df['labels'].value_counts()\n",
    "print(class_distribution_after)"
   ]
  },
  {
   "cell_type": "code",
   "execution_count": null,
   "id": "3f33f6cf-954f-4083-9ca8-f8d57db1d985",
   "metadata": {
    "tags": []
   },
   "outputs": [],
   "source": [
    "# Generate a pie chart for class distribution after oversampling\n",
    "plt.figure(figsize=(8, 6))\n",
    "plt.pie(class_distribution_after, labels=class_distribution_after.index, autopct='%1.1f%%', shadow=True)\n",
    "plt.title('Class Distribution After Oversampling')\n",
    "plt.axis('equal')  # Equal aspect ratio ensures the pie chart is circular.\n",
    "plt.show()"
   ]
  },
  {
   "cell_type": "code",
   "execution_count": null,
   "id": "cb532ec8-55fa-4811-8632-36bbd7835f42",
   "metadata": {
    "tags": []
   },
   "outputs": [],
   "source": [
    "X_balanced_features = balanced_features_df.iloc[:, 0:feature_end].values\n",
    "y_balanced_features = balanced_features_df['labels'].values"
   ]
  },
  {
   "cell_type": "code",
   "execution_count": null,
   "id": "2e504a2a-3b84-4b35-b727-dbdf969a2b07",
   "metadata": {
    "tags": []
   },
   "outputs": [],
   "source": [
    "X_balanced_features"
   ]
  },
  {
   "cell_type": "code",
   "execution_count": null,
   "id": "6ddd897c-5e92-4ccf-86f7-cb1a10bef928",
   "metadata": {
    "tags": []
   },
   "outputs": [],
   "source": [
    "X_balanced_features.shape"
   ]
  },
  {
   "cell_type": "code",
   "execution_count": null,
   "id": "7dc80125-a928-4f22-b934-06a56c8e0c8c",
   "metadata": {
    "tags": []
   },
   "outputs": [],
   "source": [
    "from sklearn.model_selection import train_test_split\n",
    "# First, split the data into train (80%) and test (20%)\n",
    "X_train_features, X_test_features, y_train_features, y_test_features = train_test_split(X_balanced_features, y_balanced_features, test_size=0.2, random_state=42)"
   ]
  },
  {
   "cell_type": "code",
   "execution_count": null,
   "id": "379419bc-2264-4a0d-a01d-561aeb9ade27",
   "metadata": {
    "tags": []
   },
   "outputs": [],
   "source": [
    "import numpy as np\n",
    "from keras.utils import to_categorical\n",
    "import pandas as pd\n",
    "from sklearn.model_selection import train_test_split, StratifiedKFold\n",
    "from sklearn.preprocessing import StandardScaler\n",
    "from sklearn.metrics import confusion_matrix, classification_report\n",
    "import tensorflow as tf\n",
    "from keras.models import Sequential\n",
    "from keras.layers import Dense, Conv1D, MaxPooling1D, Flatten, BatchNormalization, Dropout\n",
    "from sklearn.preprocessing import LabelEncoder\n",
    "from sklearn.model_selection import train_test_split\n",
    "from keras.callbacks import EarlyStopping\n",
    "import keras"
   ]
  },
  {
   "cell_type": "code",
   "execution_count": null,
   "id": "686bfb36-af09-4cd4-95c1-d515156e8fb8",
   "metadata": {
    "tags": []
   },
   "outputs": [],
   "source": [
    "# Standardize the input features\n",
    "scaler = StandardScaler()\n",
    "X_train_scaled = scaler.fit_transform(X_train_features)\n",
    "X_test_scaled = scaler.transform(X_test_features)"
   ]
  },
  {
   "cell_type": "code",
   "execution_count": null,
   "id": "7ee6eeb0-4ebd-4aa3-8d91-4a077afd2f71",
   "metadata": {
    "tags": []
   },
   "outputs": [],
   "source": [
    "# Reshape the input features for CNN\n",
    "X_train_reshaped = X_train_scaled.reshape(X_train_scaled.shape[0], X_train_scaled.shape[1], 1)\n",
    "X_test_reshaped = X_test_scaled.reshape(X_test_scaled.shape[0], X_test_scaled.shape[1], 1)"
   ]
  },
  {
   "cell_type": "code",
   "execution_count": null,
   "id": "9f23470e-e876-40dc-8583-9e69757b6cd4",
   "metadata": {
    "tags": []
   },
   "outputs": [],
   "source": [
    "X_train_reshaped.shape"
   ]
  },
  {
   "cell_type": "code",
   "execution_count": null,
   "id": "6afdca5e-5e5f-44ce-ba42-f8ab69232718",
   "metadata": {
    "tags": []
   },
   "outputs": [],
   "source": [
    "X_test_reshaped.shape"
   ]
  },
  {
   "cell_type": "code",
   "execution_count": null,
   "id": "af2e7d52-8961-44f0-85c1-d42ef1af2832",
   "metadata": {
    "tags": []
   },
   "outputs": [],
   "source": [
    "named_labels = ['MI', 'NORM', 'OTHER']\n",
    "named_labels = np.array(named_labels)\n",
    "named_labels"
   ]
  },
  {
   "cell_type": "code",
   "execution_count": null,
   "id": "43ca3758-2211-4418-84d8-7fa26265473c",
   "metadata": {
    "tags": []
   },
   "outputs": [],
   "source": [
    "# Define the CNN model (First)\n",
    "def create_model():\n",
    "    model = Sequential()\n",
    "    model.add(Conv1D(64, kernel_size=3, activation='relu', input_shape=(X_train_reshaped.shape[1], 1)))\n",
    "    model.add(Dropout(0.5))\n",
    "    model.add(BatchNormalization())\n",
    "    model.add(Conv1D(64, kernel_size=3, activation='relu'))\n",
    "    model.add(Dropout(0.5))\n",
    "    model.add(BatchNormalization())\n",
    "    model.add(MaxPooling1D(pool_size=2))\n",
    "    model.add(Flatten())\n",
    "    model.add(Dense(X_train_reshaped.shape[1], activation='relu'))\n",
    "    model.add(Dense(len(named_labels), activation='softmax'))\n",
    "\n",
    "\n",
    "    # # EarlyStopping\n",
    "    # early_stopping = EarlyStopping(monitor='val_loss', patience=30)\n",
    "\n",
    "    # Compile the model\n",
    "    model.compile(loss='categorical_crossentropy', metrics=['accuracy'])\n",
    "    return model"
   ]
  },
  {
   "cell_type": "code",
   "execution_count": null,
   "id": "ac450dfa-8668-48c2-8a34-b86138fbd5af",
   "metadata": {
    "tags": []
   },
   "outputs": [],
   "source": [
    "# Convert multiclass labels to one-hot encoding\n",
    "y_train_onehot = to_categorical(y_train_features, num_classes=len(named_labels))\n",
    "y_train_onehot"
   ]
  },
  {
   "cell_type": "code",
   "execution_count": null,
   "id": "ea5261c9-84e4-430d-bb0b-a82b9c6b6116",
   "metadata": {
    "tags": []
   },
   "outputs": [],
   "source": [
    "y_train_onehot.shape"
   ]
  },
  {
   "cell_type": "code",
   "execution_count": null,
   "id": "eac16320-8056-4836-bf7e-a292867bfdfe",
   "metadata": {
    "tags": []
   },
   "outputs": [],
   "source": [
    "# Convert multiclass labels to one-hot encoding\n",
    "y_test_onehot = to_categorical(y_test_features, num_classes=len(named_labels))\n",
    "y_test_onehot"
   ]
  },
  {
   "cell_type": "code",
   "execution_count": null,
   "id": "a8c78e7d-de00-4e45-aad5-9211212f0331",
   "metadata": {
    "tags": []
   },
   "outputs": [],
   "source": [
    "# Perform k-fold cross-validation\n",
    "kfold = StratifiedKFold(n_splits=10, shuffle=True, random_state=42)\n",
    "accuracy_scores = []\n",
    "confusion_matrices = []\n",
    "train_losses = []\n",
    "val_losses = []\n",
    "fold_models = []\n",
    "train_accuracies = []\n",
    "val_accuracies = []\n",
    "\n",
    "for train_index, val_index in kfold.split(X_train_reshaped, y_train_features):\n",
    "    train_X, val_X = X_train_reshaped[train_index], X_train_reshaped[val_index]\n",
    "    train_y, val_y = y_train_onehot[train_index], y_train_onehot[val_index]\n",
    "    \n",
    "    #Create Model\n",
    "    model = create_model()\n",
    "    \n",
    "    # Train the model\n",
    "    history = model.fit(train_X, train_y, validation_data=(val_X, val_y), epochs=100, batch_size=64)\n",
    "    \n",
    "    # Calculate training and validation losses\n",
    "    training_loss = history.history['loss'] \n",
    "    validation_loss = history.history['val_loss']\n",
    "    \n",
    "    train_losses.append(training_loss)\n",
    "    val_losses.append(validation_loss)\n",
    "    \n",
    "    # Extract train and validation accuracies from the training history\n",
    "    train_accuracy = history.history['accuracy']\n",
    "    val_accuracy = history.history['val_accuracy']\n",
    "    \n",
    "    # Store the accuracies for each fold\n",
    "    train_accuracies.append(train_accuracy)\n",
    "    val_accuracies.append(val_accuracy)\n",
    "    \n",
    "    # Evaluate the model on validation set\n",
    "    _, accuracy = model.evaluate(val_X, val_y)\n",
    "    accuracy_scores.append(accuracy)\n",
    "    \n",
    "    # Save the model\n",
    "    fold_models.append(model)\n",
    "    \n",
    "    # Make predictions on validation set\n",
    "    Y_pred = model.predict(val_X)\n",
    "    Y_pred_labels = np.argmax(Y_pred, axis=1)\n",
    "    Y_true_labels = np.argmax(val_y, axis=1)\n",
    "\n",
    "    # Matriks konfusi\n",
    "    conf_matrix = confusion_matrix(Y_true_labels, Y_pred_labels, labels=np.arange(len(named_labels)))\n",
    "    confusion_matrices.append(conf_matrix)\n",
    "\n",
    "# Rata-rata akurasi dan matriks konfusi pada semua lipatan\n",
    "mean_accuracy = np.mean(accuracy_scores)\n",
    "mean_conf_matrix = np.sum(confusion_matrices, axis=0)\n",
    "\n",
    "print(\"Mean Accuracy:\", mean_accuracy)\n",
    "print(\"Mean Confusion Matrix:\")\n",
    "print(mean_conf_matrix)\n",
    "\n",
    "# Classification report\n",
    "print(\"Classification Report:\")\n",
    "print(classification_report(Y_true_labels, Y_pred_labels, labels=np.arange(len(named_labels)), target_names=named_labels))"
   ]
  },
  {
   "cell_type": "code",
   "execution_count": null,
   "id": "c62a9251-d05f-4308-ab35-c095a493930b",
   "metadata": {
    "tags": []
   },
   "outputs": [],
   "source": [
    "# Plot the training and validation losses for each fold\n",
    "k = 10\n",
    "fold_numbers = range(1, k+1)\n",
    "for fold in fold_numbers:\n",
    "    plt.plot(range(1, len(train_losses[fold-1])+1), train_losses[fold-1], marker='o', label='Training Loss')\n",
    "    plt.plot(range(1, len(val_losses[fold-1])+1), val_losses[fold-1], marker='o', label='Validation Loss')\n",
    "    plt.xlabel('Epoch')\n",
    "    plt.ylabel('Loss')\n",
    "    plt.title(f'Training and Validation Loss - Fold {fold}')\n",
    "    plt.legend()\n",
    "    plt.show()"
   ]
  },
  {
   "cell_type": "code",
   "execution_count": null,
   "id": "1b89a763-d9eb-4eb2-861e-d741b40f6cc3",
   "metadata": {
    "tags": []
   },
   "outputs": [],
   "source": [
    "# Plot the training and validation accuracies for each fold\n",
    "k = 10\n",
    "fold_numbers = range(1, k+1)\n",
    "for fold in fold_numbers:\n",
    "    plt.plot(range(1, len(train_accuracies[fold-1])+1), train_accuracies[fold-1], marker='o', label='Training Accuracy')\n",
    "    plt.plot(range(1, len(val_accuracies[fold-1])+1), val_accuracies[fold-1], marker='o', label='Validation Accuracy')\n",
    "    plt.xlabel('Epoch')\n",
    "    plt.ylabel('Accuracy')\n",
    "    plt.title(f'Training and Validation Accuracy - Fold {fold}')\n",
    "    plt.legend()\n",
    "    plt.show()"
   ]
  },
  {
   "cell_type": "code",
   "execution_count": null,
   "id": "8a69d335-7063-421a-be51-4773115c1924",
   "metadata": {
    "tags": []
   },
   "outputs": [],
   "source": [
    "# Sensitivitas (Sensitivity) dan Spesifisitas (Specificity)\n",
    "sensitivities = []\n",
    "specificities = []\n",
    "\n",
    "for conf_matrix in confusion_matrices:\n",
    "    true_positive = np.diag(conf_matrix)\n",
    "    false_negative = np.sum(conf_matrix, axis=1) - true_positive\n",
    "    false_positive = np.sum(conf_matrix, axis=0) - true_positive\n",
    "    true_negative = np.sum(conf_matrix) - (true_positive + false_negative + false_positive)\n",
    "\n",
    "    sensitivity = true_positive / (true_positive + false_negative)\n",
    "    specificity = true_negative / (true_negative + false_positive)\n",
    "\n",
    "    sensitivities.append(sensitivity)\n",
    "    specificities.append(specificity)\n",
    "\n",
    "mean_sensitivity = np.mean(sensitivities)\n",
    "mean_specificity = np.mean(specificities)\n",
    "\n",
    "print(\"Mean Sensitivity:\", mean_sensitivity)\n",
    "print(\"Mean Specificity:\", mean_specificity)"
   ]
  },
  {
   "cell_type": "code",
   "execution_count": null,
   "id": "fd3f4b52-e123-4f61-899c-64d4337f3374",
   "metadata": {
    "tags": []
   },
   "outputs": [],
   "source": [
    "# Plot the training and validation losses for each fold\n",
    "k = 10\n",
    "fold_numbers = range(1, k+1)\n",
    "for fold in fold_numbers:\n",
    "    # Make predictions on test set\n",
    "    best_model = fold_models[fold-1]\n",
    "    Y_predict = best_model.predict(X_test_reshaped)\n",
    "    Y_predict_labels = np.argmax(Y_predict, axis=1)\n",
    "    Y_tr_labels = np.argmax(y_test_onehot, axis=1)\n",
    "\n",
    "    # Matriks konfusi\n",
    "    cf_matrix = confusion_matrix(Y_tr_labels, Y_predict_labels, labels=np.arange(len(named_labels)))\n",
    "    print(\"Fold :\", fold)\n",
    "    print(\"Confusion Matrix : \")\n",
    "    print(cf_matrix)\n",
    "\n",
    "    print(\"Classification Report:\")\n",
    "    print(classification_report(Y_tr_labels, Y_predict_labels, labels=np.arange(len(named_labels)), target_names=named_labels))"
   ]
  },
  {
   "cell_type": "code",
   "execution_count": null,
   "id": "2849e038-05c5-413e-b442-b9dd16c971e4",
   "metadata": {
    "tags": []
   },
   "outputs": [],
   "source": [
    "# Make predictions on test set\n",
    "best_fold = 5\n",
    "best_model = fold_models[best_fold-1]\n",
    "Y_predict = best_model.predict(X_test_reshaped)\n",
    "Y_predict_labels = np.argmax(Y_predict, axis=1)\n",
    "Y_tr_labels = np.argmax(y_test_onehot, axis=1)\n",
    " # Matriks konfusi\n",
    "cf_matrix = confusion_matrix(Y_tr_labels, Y_predict_labels, labels=np.arange(len(named_labels)))\n",
    "print(\"Best Fold :\", best_fold)\n",
    "print(\"Confusion Matrix : \")\n",
    "print(cf_matrix)\n",
    "\n",
    "print(\"Classification Report:\")\n",
    "print(classification_report(Y_tr_labels, Y_predict_labels, labels=np.arange(len(named_labels)), target_names=named_labels))"
   ]
  },
  {
   "cell_type": "code",
   "execution_count": null,
   "id": "358c83b6-8760-4da5-aa52-eede99c8a3e7",
   "metadata": {
    "tags": []
   },
   "outputs": [],
   "source": [
    "true_positive = np.diag(cf_matrix)\n",
    "false_negative = np.sum(cf_matrix, axis=1) - true_positive\n",
    "false_positive = np.sum(cf_matrix, axis=0) - true_positive\n",
    "true_negative = np.sum(cf_matrix) - (true_positive + false_negative + false_positive)\n",
    "\n",
    "sensitivity = true_positive / (true_positive + false_negative)\n",
    "specificity = true_negative / (true_negative + false_positive)\n",
    "print(\"Sensitivity:\", sensitivity)\n",
    "print(\"Specificity:\", specificity)"
   ]
  },
  {
   "cell_type": "code",
   "execution_count": null,
   "id": "3f0fa3f0-d269-4927-bf92-089d3f677e15",
   "metadata": {},
   "outputs": [
    {
     "name": "stderr",
     "output_type": "stream",
     "text": [
      " 27%|█████████████████████▏                                                       | 5998/21837 [03:00<06:18, 41.87it/s]"
     ]
    }
   ],
   "source": [
    "import seaborn as sns\n",
    "import matplotlib.pyplot as plt\n",
    "# Calculate percentages for each true class\n",
    "conf_matrix_percentage = cf_matrix / cf_matrix.sum(axis=1, keepdims=True) * 100\n",
    "\n",
    "# Create a heatmap using seaborn\n",
    "plt.figure(figsize=(8, 6))\n",
    "sns.heatmap(conf_matrix_percentage, annot=True, fmt='.2f', cmap='Blues', xticklabels=named_labels, yticklabels=named_labels)\n",
    "plt.xlabel('Predicted Labels')\n",
    "plt.ylabel('True Labels')\n",
    "plt.title('Confusion Matrix - Prediction Percentages')\n",
    "plt.show()"
   ]
  },
  {
   "cell_type": "code",
   "execution_count": null,
   "id": "73a52a74-947c-4949-b609-c1a4bbf618f0",
   "metadata": {
    "tags": []
   },
   "outputs": [],
   "source": [
    "import pickle\n",
    "with open('modelfinale_CNN', 'wb') as f :\n",
    "    pickle.dump(model, f)"
   ]
  },
  {
   "cell_type": "code",
   "execution_count": 81,
   "id": "654b7d6f-1816-46c8-87b2-6741645d2cb3",
   "metadata": {
    "tags": []
   },
   "outputs": [],
   "source": [
    "with open('test_CNN.npy', 'wb') as f :\n",
    "    np.save(f, X_test_reshaped)"
   ]
  },
  {
   "cell_type": "code",
   "execution_count": 82,
   "id": "3dd76bab-f796-46a8-9e0e-57ffc39955ef",
   "metadata": {
    "tags": []
   },
   "outputs": [],
   "source": [
    "with open('y_test_onehot_CNN.npy', 'wb') as f :\n",
    "    np.save(f, y_test_onehot)"
   ]
  },
  {
   "cell_type": "code",
   "execution_count": 83,
   "id": "35d13bff-44ca-452a-adb9-8a38aea920e8",
   "metadata": {},
   "outputs": [],
   "source": [
    "test_data2 = np.load('test_CNN.npy')"
   ]
  },
  {
   "cell_type": "code",
   "execution_count": null,
   "id": "c2873fbc-ddb0-43ef-8a4e-978149900f8a",
   "metadata": {},
   "outputs": [],
   "source": []
  }
 ],
 "metadata": {
  "kernelspec": {
   "display_name": "Python 3 (ipykernel)",
   "language": "python",
   "name": "python3"
  },
  "language_info": {
   "codemirror_mode": {
    "name": "ipython",
    "version": 3
   },
   "file_extension": ".py",
   "mimetype": "text/x-python",
   "name": "python",
   "nbconvert_exporter": "python",
   "pygments_lexer": "ipython3",
   "version": "3.11.2"
  }
 },
 "nbformat": 4,
 "nbformat_minor": 5
}
